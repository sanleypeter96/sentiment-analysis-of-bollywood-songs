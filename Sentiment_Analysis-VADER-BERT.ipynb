{
 "cells": [
  {
   "cell_type": "markdown",
   "id": "de27840b",
   "metadata": {},
   "source": [
    "The approach is adapted from the sources https://nlpiation.medium.com/is-it-possible-to-do-sentiment-analysis-on-unlabeled-data-using-bert-feat-vader-experiment-357bba53768c and https://huggingface.co/monsoon-nlp/hindi-tpu-electra"
   ]
  },
  {
   "cell_type": "markdown",
   "id": "dac46ed4",
   "metadata": {},
   "source": [
    "# Installing and importing packages"
   ]
  },
  {
   "cell_type": "code",
   "execution_count": 1,
   "id": "14783e92",
   "metadata": {},
   "outputs": [
    {
     "name": "stdout",
     "output_type": "stream",
     "text": [
      "Requirement already satisfied: simpletransformers in /opt/homebrew/Caskroom/miniforge/base/envs/tensorflow/lib/python3.9/site-packages (0.63.7)\n",
      "Requirement already satisfied: regex in /opt/homebrew/Caskroom/miniforge/base/envs/tensorflow/lib/python3.9/site-packages (from simpletransformers) (2022.6.2)\n",
      "Requirement already satisfied: pandas in /opt/homebrew/Caskroom/miniforge/base/envs/tensorflow/lib/python3.9/site-packages (from simpletransformers) (1.4.3)\n",
      "Requirement already satisfied: transformers>=4.6.0 in /opt/homebrew/Caskroom/miniforge/base/envs/tensorflow/lib/python3.9/site-packages (from simpletransformers) (4.21.0.dev0)\n",
      "Requirement already satisfied: tokenizers in /opt/homebrew/Caskroom/miniforge/base/envs/tensorflow/lib/python3.9/site-packages/tokenizers-0.12.1.dev0-py3.9-macosx-11.0-arm64.egg (from simpletransformers) (0.12.1.dev0)\n",
      "Requirement already satisfied: numpy in /opt/homebrew/Caskroom/miniforge/base/envs/tensorflow/lib/python3.9/site-packages (from simpletransformers) (1.23.1)\n",
      "Requirement already satisfied: scikit-learn in /opt/homebrew/Caskroom/miniforge/base/envs/tensorflow/lib/python3.9/site-packages (from simpletransformers) (1.1.1)\n",
      "Requirement already satisfied: scipy in /opt/homebrew/Caskroom/miniforge/base/envs/tensorflow/lib/python3.9/site-packages (from simpletransformers) (1.8.1)\n",
      "Requirement already satisfied: requests in /opt/homebrew/Caskroom/miniforge/base/envs/tensorflow/lib/python3.9/site-packages (from simpletransformers) (2.28.1)\n",
      "Requirement already satisfied: datasets in /opt/homebrew/Caskroom/miniforge/base/envs/tensorflow/lib/python3.9/site-packages (from simpletransformers) (2.4.0)\n",
      "Requirement already satisfied: wandb>=0.10.32 in /opt/homebrew/Caskroom/miniforge/base/envs/tensorflow/lib/python3.9/site-packages (from simpletransformers) (0.12.21)\n",
      "Requirement already satisfied: seqeval in /opt/homebrew/Caskroom/miniforge/base/envs/tensorflow/lib/python3.9/site-packages (from simpletransformers) (1.2.2)\n",
      "Requirement already satisfied: tqdm>=4.47.0 in /opt/homebrew/Caskroom/miniforge/base/envs/tensorflow/lib/python3.9/site-packages (from simpletransformers) (4.64.0)\n",
      "Requirement already satisfied: tensorboard in /opt/homebrew/Caskroom/miniforge/base/envs/tensorflow/lib/python3.9/site-packages (from simpletransformers) (2.9.1)\n",
      "Requirement already satisfied: sentencepiece in /opt/homebrew/Caskroom/miniforge/base/envs/tensorflow/lib/python3.9/site-packages (from simpletransformers) (0.1.96)\n",
      "Requirement already satisfied: streamlit in /opt/homebrew/Caskroom/miniforge/base/envs/tensorflow/lib/python3.9/site-packages (from simpletransformers) (1.11.1)\n",
      "Requirement already satisfied: huggingface-hub<1.0,>=0.1.0 in /opt/homebrew/Caskroom/miniforge/base/envs/tensorflow/lib/python3.9/site-packages (from transformers>=4.6.0->simpletransformers) (0.8.1)\n",
      "Requirement already satisfied: pyyaml>=5.1 in /opt/homebrew/Caskroom/miniforge/base/envs/tensorflow/lib/python3.9/site-packages (from transformers>=4.6.0->simpletransformers) (6.0)\n",
      "Requirement already satisfied: filelock in /opt/homebrew/Caskroom/miniforge/base/envs/tensorflow/lib/python3.9/site-packages (from transformers>=4.6.0->simpletransformers) (3.7.1)\n",
      "Requirement already satisfied: packaging>=20.0 in /opt/homebrew/Caskroom/miniforge/base/envs/tensorflow/lib/python3.9/site-packages (from transformers>=4.6.0->simpletransformers) (21.3)\n",
      "Requirement already satisfied: Click!=8.0.0,>=7.0 in /opt/homebrew/Caskroom/miniforge/base/envs/tensorflow/lib/python3.9/site-packages (from wandb>=0.10.32->simpletransformers) (8.1.3)\n",
      "Requirement already satisfied: psutil>=5.0.0 in /opt/homebrew/Caskroom/miniforge/base/envs/tensorflow/lib/python3.9/site-packages (from wandb>=0.10.32->simpletransformers) (5.9.1)\n",
      "Requirement already satisfied: six>=1.13.0 in /opt/homebrew/Caskroom/miniforge/base/envs/tensorflow/lib/python3.9/site-packages (from wandb>=0.10.32->simpletransformers) (1.15.0)\n",
      "Requirement already satisfied: protobuf<4.0dev,>=3.12.0 in /opt/homebrew/Caskroom/miniforge/base/envs/tensorflow/lib/python3.9/site-packages (from wandb>=0.10.32->simpletransformers) (3.19.4)\n",
      "Requirement already satisfied: sentry-sdk>=1.0.0 in /opt/homebrew/Caskroom/miniforge/base/envs/tensorflow/lib/python3.9/site-packages (from wandb>=0.10.32->simpletransformers) (1.9.0)\n",
      "Requirement already satisfied: pathtools in /opt/homebrew/Caskroom/miniforge/base/envs/tensorflow/lib/python3.9/site-packages (from wandb>=0.10.32->simpletransformers) (0.1.2)\n",
      "Requirement already satisfied: setuptools in /opt/homebrew/Caskroom/miniforge/base/envs/tensorflow/lib/python3.9/site-packages (from wandb>=0.10.32->simpletransformers) (63.1.0)\n",
      "Requirement already satisfied: setproctitle in /opt/homebrew/Caskroom/miniforge/base/envs/tensorflow/lib/python3.9/site-packages (from wandb>=0.10.32->simpletransformers) (1.3.0)\n",
      "Requirement already satisfied: promise<3,>=2.0 in /opt/homebrew/Caskroom/miniforge/base/envs/tensorflow/lib/python3.9/site-packages (from wandb>=0.10.32->simpletransformers) (2.3)\n",
      "Requirement already satisfied: GitPython>=1.0.0 in /opt/homebrew/Caskroom/miniforge/base/envs/tensorflow/lib/python3.9/site-packages (from wandb>=0.10.32->simpletransformers) (3.1.27)\n",
      "Requirement already satisfied: shortuuid>=0.5.0 in /opt/homebrew/Caskroom/miniforge/base/envs/tensorflow/lib/python3.9/site-packages (from wandb>=0.10.32->simpletransformers) (1.0.9)\n",
      "Requirement already satisfied: docker-pycreds>=0.4.0 in /opt/homebrew/Caskroom/miniforge/base/envs/tensorflow/lib/python3.9/site-packages (from wandb>=0.10.32->simpletransformers) (0.4.0)\n",
      "Requirement already satisfied: charset-normalizer<3,>=2 in /opt/homebrew/Caskroom/miniforge/base/envs/tensorflow/lib/python3.9/site-packages (from requests->simpletransformers) (2.1.0)\n",
      "Requirement already satisfied: idna<4,>=2.5 in /opt/homebrew/Caskroom/miniforge/base/envs/tensorflow/lib/python3.9/site-packages (from requests->simpletransformers) (2.10)\n",
      "Requirement already satisfied: certifi>=2017.4.17 in /opt/homebrew/Caskroom/miniforge/base/envs/tensorflow/lib/python3.9/site-packages (from requests->simpletransformers) (2022.6.15)\n",
      "Requirement already satisfied: urllib3<1.27,>=1.21.1 in /opt/homebrew/Caskroom/miniforge/base/envs/tensorflow/lib/python3.9/site-packages (from requests->simpletransformers) (1.26.9)\n",
      "Requirement already satisfied: fsspec[http]>=2021.11.1 in /opt/homebrew/Caskroom/miniforge/base/envs/tensorflow/lib/python3.9/site-packages (from datasets->simpletransformers) (2022.7.1)\n",
      "Requirement already satisfied: dill<0.3.6 in /opt/homebrew/Caskroom/miniforge/base/envs/tensorflow/lib/python3.9/site-packages (from datasets->simpletransformers) (0.3.5.1)\n",
      "Requirement already satisfied: pyarrow>=6.0.0 in /opt/homebrew/Caskroom/miniforge/base/envs/tensorflow/lib/python3.9/site-packages (from datasets->simpletransformers) (8.0.0)\n",
      "Requirement already satisfied: responses<0.19 in /opt/homebrew/Caskroom/miniforge/base/envs/tensorflow/lib/python3.9/site-packages (from datasets->simpletransformers) (0.18.0)\n",
      "Requirement already satisfied: xxhash in /opt/homebrew/Caskroom/miniforge/base/envs/tensorflow/lib/python3.9/site-packages (from datasets->simpletransformers) (3.0.0)\n",
      "Requirement already satisfied: aiohttp in /opt/homebrew/Caskroom/miniforge/base/envs/tensorflow/lib/python3.9/site-packages (from datasets->simpletransformers) (3.8.1)\n",
      "Requirement already satisfied: multiprocess in /opt/homebrew/Caskroom/miniforge/base/envs/tensorflow/lib/python3.9/site-packages (from datasets->simpletransformers) (0.70.13)\n",
      "Requirement already satisfied: python-dateutil>=2.8.1 in /opt/homebrew/Caskroom/miniforge/base/envs/tensorflow/lib/python3.9/site-packages (from pandas->simpletransformers) (2.8.2)\n",
      "Requirement already satisfied: pytz>=2020.1 in /opt/homebrew/Caskroom/miniforge/base/envs/tensorflow/lib/python3.9/site-packages (from pandas->simpletransformers) (2022.1)\n",
      "Requirement already satisfied: threadpoolctl>=2.0.0 in /opt/homebrew/Caskroom/miniforge/base/envs/tensorflow/lib/python3.9/site-packages (from scikit-learn->simpletransformers) (3.1.0)\n",
      "Requirement already satisfied: joblib>=1.0.0 in /opt/homebrew/Caskroom/miniforge/base/envs/tensorflow/lib/python3.9/site-packages (from scikit-learn->simpletransformers) (1.1.0)\n",
      "Requirement already satisfied: toml in /opt/homebrew/Caskroom/miniforge/base/envs/tensorflow/lib/python3.9/site-packages (from streamlit->simpletransformers) (0.10.2)\n",
      "Requirement already satisfied: altair>=3.2.0 in /opt/homebrew/Caskroom/miniforge/base/envs/tensorflow/lib/python3.9/site-packages (from streamlit->simpletransformers) (4.2.0)\n",
      "Requirement already satisfied: cachetools>=4.0 in /opt/homebrew/Caskroom/miniforge/base/envs/tensorflow/lib/python3.9/site-packages (from streamlit->simpletransformers) (5.2.0)\n",
      "Requirement already satisfied: pydeck>=0.1.dev5 in /opt/homebrew/Caskroom/miniforge/base/envs/tensorflow/lib/python3.9/site-packages (from streamlit->simpletransformers) (0.7.1)\n",
      "Requirement already satisfied: validators>=0.2 in /opt/homebrew/Caskroom/miniforge/base/envs/tensorflow/lib/python3.9/site-packages (from streamlit->simpletransformers) (0.20.0)\n",
      "Requirement already satisfied: tzlocal>=1.1 in /opt/homebrew/Caskroom/miniforge/base/envs/tensorflow/lib/python3.9/site-packages (from streamlit->simpletransformers) (4.2)\n",
      "Requirement already satisfied: attrs>=16.0.0 in /opt/homebrew/Caskroom/miniforge/base/envs/tensorflow/lib/python3.9/site-packages (from streamlit->simpletransformers) (21.4.0)\n",
      "Requirement already satisfied: blinker>=1.0.0 in /opt/homebrew/Caskroom/miniforge/base/envs/tensorflow/lib/python3.9/site-packages (from streamlit->simpletransformers) (1.5)\n",
      "Requirement already satisfied: typing-extensions>=3.10.0.0 in /opt/homebrew/Caskroom/miniforge/base/envs/tensorflow/lib/python3.9/site-packages (from streamlit->simpletransformers) (4.3.0)\n",
      "Requirement already satisfied: importlib-metadata>=1.4 in /opt/homebrew/Caskroom/miniforge/base/envs/tensorflow/lib/python3.9/site-packages (from streamlit->simpletransformers) (4.11.4)\n",
      "Requirement already satisfied: pympler>=0.9 in /opt/homebrew/Caskroom/miniforge/base/envs/tensorflow/lib/python3.9/site-packages (from streamlit->simpletransformers) (1.0.1)\n",
      "Requirement already satisfied: tornado>=5.0 in /opt/homebrew/Caskroom/miniforge/base/envs/tensorflow/lib/python3.9/site-packages (from streamlit->simpletransformers) (6.2)\n",
      "Requirement already satisfied: pillow>=6.2.0 in /opt/homebrew/Caskroom/miniforge/base/envs/tensorflow/lib/python3.9/site-packages (from streamlit->simpletransformers) (9.2.0)\n",
      "Requirement already satisfied: rich>=10.11.0 in /opt/homebrew/Caskroom/miniforge/base/envs/tensorflow/lib/python3.9/site-packages (from streamlit->simpletransformers) (12.5.1)\n",
      "Requirement already satisfied: semver in /opt/homebrew/Caskroom/miniforge/base/envs/tensorflow/lib/python3.9/site-packages (from streamlit->simpletransformers) (2.13.0)\n",
      "Requirement already satisfied: markdown>=2.6.8 in /opt/homebrew/Caskroom/miniforge/base/envs/tensorflow/lib/python3.9/site-packages (from tensorboard->simpletransformers) (3.3.7)\n",
      "Requirement already satisfied: absl-py>=0.4 in /opt/homebrew/Caskroom/miniforge/base/envs/tensorflow/lib/python3.9/site-packages (from tensorboard->simpletransformers) (0.10.0)\n",
      "Requirement already satisfied: google-auth<3,>=1.6.3 in /opt/homebrew/Caskroom/miniforge/base/envs/tensorflow/lib/python3.9/site-packages (from tensorboard->simpletransformers) (2.9.0)\n",
      "Requirement already satisfied: grpcio>=1.24.3 in /opt/homebrew/Caskroom/miniforge/base/envs/tensorflow/lib/python3.9/site-packages (from tensorboard->simpletransformers) (1.34.1)\n",
      "Requirement already satisfied: tensorboard-data-server<0.7.0,>=0.6.0 in /opt/homebrew/Caskroom/miniforge/base/envs/tensorflow/lib/python3.9/site-packages (from tensorboard->simpletransformers) (0.6.1)\n",
      "Requirement already satisfied: tensorboard-plugin-wit>=1.6.0 in /opt/homebrew/Caskroom/miniforge/base/envs/tensorflow/lib/python3.9/site-packages (from tensorboard->simpletransformers) (1.8.1)\n",
      "Requirement already satisfied: google-auth-oauthlib<0.5,>=0.4.1 in /opt/homebrew/Caskroom/miniforge/base/envs/tensorflow/lib/python3.9/site-packages (from tensorboard->simpletransformers) (0.4.6)\n",
      "Requirement already satisfied: werkzeug>=1.0.1 in /opt/homebrew/Caskroom/miniforge/base/envs/tensorflow/lib/python3.9/site-packages (from tensorboard->simpletransformers) (2.1.2)\n",
      "Requirement already satisfied: wheel>=0.26 in /opt/homebrew/Caskroom/miniforge/base/envs/tensorflow/lib/python3.9/site-packages (from tensorboard->simpletransformers) (0.35.1)\n"
     ]
    },
    {
     "name": "stdout",
     "output_type": "stream",
     "text": [
      "Requirement already satisfied: jinja2 in /opt/homebrew/Caskroom/miniforge/base/envs/tensorflow/lib/python3.9/site-packages (from altair>=3.2.0->streamlit->simpletransformers) (3.1.2)\n",
      "Requirement already satisfied: toolz in /opt/homebrew/Caskroom/miniforge/base/envs/tensorflow/lib/python3.9/site-packages (from altair>=3.2.0->streamlit->simpletransformers) (0.12.0)\n",
      "Requirement already satisfied: entrypoints in /opt/homebrew/Caskroom/miniforge/base/envs/tensorflow/lib/python3.9/site-packages (from altair>=3.2.0->streamlit->simpletransformers) (0.4)\n",
      "Requirement already satisfied: jsonschema>=3.0 in /opt/homebrew/Caskroom/miniforge/base/envs/tensorflow/lib/python3.9/site-packages (from altair>=3.2.0->streamlit->simpletransformers) (4.6.1)\n",
      "Requirement already satisfied: gitdb<5,>=4.0.1 in /opt/homebrew/Caskroom/miniforge/base/envs/tensorflow/lib/python3.9/site-packages (from GitPython>=1.0.0->wandb>=0.10.32->simpletransformers) (4.0.9)\n",
      "Requirement already satisfied: pyasn1-modules>=0.2.1 in /opt/homebrew/Caskroom/miniforge/base/envs/tensorflow/lib/python3.9/site-packages (from google-auth<3,>=1.6.3->tensorboard->simpletransformers) (0.2.8)\n",
      "Requirement already satisfied: rsa<5,>=3.1.4 in /opt/homebrew/Caskroom/miniforge/base/envs/tensorflow/lib/python3.9/site-packages (from google-auth<3,>=1.6.3->tensorboard->simpletransformers) (4.8)\n",
      "Requirement already satisfied: requests-oauthlib>=0.7.0 in /opt/homebrew/Caskroom/miniforge/base/envs/tensorflow/lib/python3.9/site-packages (from google-auth-oauthlib<0.5,>=0.4.1->tensorboard->simpletransformers) (1.3.1)\n",
      "Requirement already satisfied: zipp>=0.5 in /opt/homebrew/Caskroom/miniforge/base/envs/tensorflow/lib/python3.9/site-packages (from importlib-metadata>=1.4->streamlit->simpletransformers) (3.8.0)\n",
      "Requirement already satisfied: pyparsing!=3.0.5,>=2.0.2 in /opt/homebrew/Caskroom/miniforge/base/envs/tensorflow/lib/python3.9/site-packages (from packaging>=20.0->transformers>=4.6.0->simpletransformers) (3.0.9)\n",
      "Requirement already satisfied: traitlets>=4.3.2 in /opt/homebrew/Caskroom/miniforge/base/envs/tensorflow/lib/python3.9/site-packages (from pydeck>=0.1.dev5->streamlit->simpletransformers) (5.3.0)\n",
      "Requirement already satisfied: ipywidgets>=7.0.0 in /opt/homebrew/Caskroom/miniforge/base/envs/tensorflow/lib/python3.9/site-packages (from pydeck>=0.1.dev5->streamlit->simpletransformers) (7.7.1)\n",
      "Requirement already satisfied: ipykernel>=5.1.2 in /opt/homebrew/Caskroom/miniforge/base/envs/tensorflow/lib/python3.9/site-packages (from pydeck>=0.1.dev5->streamlit->simpletransformers) (6.15.0)\n",
      "Requirement already satisfied: commonmark<0.10.0,>=0.9.0 in /opt/homebrew/Caskroom/miniforge/base/envs/tensorflow/lib/python3.9/site-packages (from rich>=10.11.0->streamlit->simpletransformers) (0.9.1)\n",
      "Requirement already satisfied: pygments<3.0.0,>=2.6.0 in /opt/homebrew/Caskroom/miniforge/base/envs/tensorflow/lib/python3.9/site-packages (from rich>=10.11.0->streamlit->simpletransformers) (2.12.0)\n",
      "Requirement already satisfied: pytz-deprecation-shim in /opt/homebrew/Caskroom/miniforge/base/envs/tensorflow/lib/python3.9/site-packages (from tzlocal>=1.1->streamlit->simpletransformers) (0.1.0.post0)\n",
      "Requirement already satisfied: decorator>=3.4.0 in /opt/homebrew/Caskroom/miniforge/base/envs/tensorflow/lib/python3.9/site-packages (from validators>=0.2->streamlit->simpletransformers) (5.1.1)\n",
      "Requirement already satisfied: yarl<2.0,>=1.0 in /opt/homebrew/Caskroom/miniforge/base/envs/tensorflow/lib/python3.9/site-packages (from aiohttp->datasets->simpletransformers) (1.8.0)\n",
      "Requirement already satisfied: multidict<7.0,>=4.5 in /opt/homebrew/Caskroom/miniforge/base/envs/tensorflow/lib/python3.9/site-packages (from aiohttp->datasets->simpletransformers) (6.0.2)\n",
      "Requirement already satisfied: aiosignal>=1.1.2 in /opt/homebrew/Caskroom/miniforge/base/envs/tensorflow/lib/python3.9/site-packages (from aiohttp->datasets->simpletransformers) (1.2.0)\n",
      "Requirement already satisfied: frozenlist>=1.1.1 in /opt/homebrew/Caskroom/miniforge/base/envs/tensorflow/lib/python3.9/site-packages (from aiohttp->datasets->simpletransformers) (1.3.0)\n",
      "Requirement already satisfied: async-timeout<5.0,>=4.0.0a3 in /opt/homebrew/Caskroom/miniforge/base/envs/tensorflow/lib/python3.9/site-packages (from aiohttp->datasets->simpletransformers) (4.0.2)\n",
      "Requirement already satisfied: smmap<6,>=3.0.1 in /opt/homebrew/Caskroom/miniforge/base/envs/tensorflow/lib/python3.9/site-packages (from gitdb<5,>=4.0.1->GitPython>=1.0.0->wandb>=0.10.32->simpletransformers) (5.0.0)\n",
      "Requirement already satisfied: jupyter-client>=6.1.12 in /opt/homebrew/Caskroom/miniforge/base/envs/tensorflow/lib/python3.9/site-packages (from ipykernel>=5.1.2->pydeck>=0.1.dev5->streamlit->simpletransformers) (7.3.4)\n",
      "Requirement already satisfied: appnope in /opt/homebrew/Caskroom/miniforge/base/envs/tensorflow/lib/python3.9/site-packages (from ipykernel>=5.1.2->pydeck>=0.1.dev5->streamlit->simpletransformers) (0.1.3)\n",
      "Requirement already satisfied: ipython>=7.23.1 in /opt/homebrew/Caskroom/miniforge/base/envs/tensorflow/lib/python3.9/site-packages (from ipykernel>=5.1.2->pydeck>=0.1.dev5->streamlit->simpletransformers) (8.4.0)\n",
      "Requirement already satisfied: pyzmq>=17 in /opt/homebrew/Caskroom/miniforge/base/envs/tensorflow/lib/python3.9/site-packages (from ipykernel>=5.1.2->pydeck>=0.1.dev5->streamlit->simpletransformers) (23.2.0)\n",
      "Requirement already satisfied: nest-asyncio in /opt/homebrew/Caskroom/miniforge/base/envs/tensorflow/lib/python3.9/site-packages (from ipykernel>=5.1.2->pydeck>=0.1.dev5->streamlit->simpletransformers) (1.5.5)\n",
      "Requirement already satisfied: matplotlib-inline>=0.1 in /opt/homebrew/Caskroom/miniforge/base/envs/tensorflow/lib/python3.9/site-packages (from ipykernel>=5.1.2->pydeck>=0.1.dev5->streamlit->simpletransformers) (0.1.3)\n",
      "Requirement already satisfied: debugpy>=1.0 in /opt/homebrew/Caskroom/miniforge/base/envs/tensorflow/lib/python3.9/site-packages (from ipykernel>=5.1.2->pydeck>=0.1.dev5->streamlit->simpletransformers) (1.6.0)\n",
      "Requirement already satisfied: jupyterlab-widgets>=1.0.0 in /opt/homebrew/Caskroom/miniforge/base/envs/tensorflow/lib/python3.9/site-packages (from ipywidgets>=7.0.0->pydeck>=0.1.dev5->streamlit->simpletransformers) (1.1.1)\n",
      "Requirement already satisfied: ipython-genutils~=0.2.0 in /opt/homebrew/Caskroom/miniforge/base/envs/tensorflow/lib/python3.9/site-packages (from ipywidgets>=7.0.0->pydeck>=0.1.dev5->streamlit->simpletransformers) (0.2.0)\n",
      "Requirement already satisfied: widgetsnbextension~=3.6.0 in /opt/homebrew/Caskroom/miniforge/base/envs/tensorflow/lib/python3.9/site-packages (from ipywidgets>=7.0.0->pydeck>=0.1.dev5->streamlit->simpletransformers) (3.6.1)\n",
      "Requirement already satisfied: MarkupSafe>=2.0 in /opt/homebrew/Caskroom/miniforge/base/envs/tensorflow/lib/python3.9/site-packages (from jinja2->altair>=3.2.0->streamlit->simpletransformers) (2.1.1)\n",
      "Requirement already satisfied: pyrsistent!=0.17.0,!=0.17.1,!=0.17.2,>=0.14.0 in /opt/homebrew/Caskroom/miniforge/base/envs/tensorflow/lib/python3.9/site-packages (from jsonschema>=3.0->altair>=3.2.0->streamlit->simpletransformers) (0.18.1)\n",
      "Requirement already satisfied: pyasn1<0.5.0,>=0.4.6 in /opt/homebrew/Caskroom/miniforge/base/envs/tensorflow/lib/python3.9/site-packages (from pyasn1-modules>=0.2.1->google-auth<3,>=1.6.3->tensorboard->simpletransformers) (0.4.8)\n",
      "Requirement already satisfied: oauthlib>=3.0.0 in /opt/homebrew/Caskroom/miniforge/base/envs/tensorflow/lib/python3.9/site-packages (from requests-oauthlib>=0.7.0->google-auth-oauthlib<0.5,>=0.4.1->tensorboard->simpletransformers) (3.2.0)\n",
      "Requirement already satisfied: tzdata in /opt/homebrew/Caskroom/miniforge/base/envs/tensorflow/lib/python3.9/site-packages (from pytz-deprecation-shim->tzlocal>=1.1->streamlit->simpletransformers) (2022.1)\n",
      "Requirement already satisfied: pexpect>4.3 in /opt/homebrew/Caskroom/miniforge/base/envs/tensorflow/lib/python3.9/site-packages (from ipython>=7.23.1->ipykernel>=5.1.2->pydeck>=0.1.dev5->streamlit->simpletransformers) (4.8.0)\n",
      "Requirement already satisfied: stack-data in /opt/homebrew/Caskroom/miniforge/base/envs/tensorflow/lib/python3.9/site-packages (from ipython>=7.23.1->ipykernel>=5.1.2->pydeck>=0.1.dev5->streamlit->simpletransformers) (0.3.0)\n",
      "Requirement already satisfied: prompt-toolkit!=3.0.0,!=3.0.1,<3.1.0,>=2.0.0 in /opt/homebrew/Caskroom/miniforge/base/envs/tensorflow/lib/python3.9/site-packages (from ipython>=7.23.1->ipykernel>=5.1.2->pydeck>=0.1.dev5->streamlit->simpletransformers) (3.0.30)\n",
      "Requirement already satisfied: jedi>=0.16 in /opt/homebrew/Caskroom/miniforge/base/envs/tensorflow/lib/python3.9/site-packages (from ipython>=7.23.1->ipykernel>=5.1.2->pydeck>=0.1.dev5->streamlit->simpletransformers) (0.18.1)\n",
      "Requirement already satisfied: pickleshare in /opt/homebrew/Caskroom/miniforge/base/envs/tensorflow/lib/python3.9/site-packages (from ipython>=7.23.1->ipykernel>=5.1.2->pydeck>=0.1.dev5->streamlit->simpletransformers) (0.7.5)\n",
      "Requirement already satisfied: backcall in /opt/homebrew/Caskroom/miniforge/base/envs/tensorflow/lib/python3.9/site-packages (from ipython>=7.23.1->ipykernel>=5.1.2->pydeck>=0.1.dev5->streamlit->simpletransformers) (0.2.0)\n"
     ]
    },
    {
     "name": "stdout",
     "output_type": "stream",
     "text": [
      "Requirement already satisfied: jupyter-core>=4.9.2 in /opt/homebrew/Caskroom/miniforge/base/envs/tensorflow/lib/python3.9/site-packages (from jupyter-client>=6.1.12->ipykernel>=5.1.2->pydeck>=0.1.dev5->streamlit->simpletransformers) (4.10.0)\n",
      "Requirement already satisfied: notebook>=4.4.1 in /opt/homebrew/Caskroom/miniforge/base/envs/tensorflow/lib/python3.9/site-packages (from widgetsnbextension~=3.6.0->ipywidgets>=7.0.0->pydeck>=0.1.dev5->streamlit->simpletransformers) (6.4.12)\n",
      "Requirement already satisfied: parso<0.9.0,>=0.8.0 in /opt/homebrew/Caskroom/miniforge/base/envs/tensorflow/lib/python3.9/site-packages (from jedi>=0.16->ipython>=7.23.1->ipykernel>=5.1.2->pydeck>=0.1.dev5->streamlit->simpletransformers) (0.8.3)\n",
      "Requirement already satisfied: nbconvert>=5 in /opt/homebrew/Caskroom/miniforge/base/envs/tensorflow/lib/python3.9/site-packages (from notebook>=4.4.1->widgetsnbextension~=3.6.0->ipywidgets>=7.0.0->pydeck>=0.1.dev5->streamlit->simpletransformers) (6.4.5)\n",
      "Requirement already satisfied: terminado>=0.8.3 in /opt/homebrew/Caskroom/miniforge/base/envs/tensorflow/lib/python3.9/site-packages (from notebook>=4.4.1->widgetsnbextension~=3.6.0->ipywidgets>=7.0.0->pydeck>=0.1.dev5->streamlit->simpletransformers) (0.15.0)\n",
      "Requirement already satisfied: prometheus-client in /opt/homebrew/Caskroom/miniforge/base/envs/tensorflow/lib/python3.9/site-packages (from notebook>=4.4.1->widgetsnbextension~=3.6.0->ipywidgets>=7.0.0->pydeck>=0.1.dev5->streamlit->simpletransformers) (0.14.1)\n",
      "Requirement already satisfied: Send2Trash>=1.8.0 in /opt/homebrew/Caskroom/miniforge/base/envs/tensorflow/lib/python3.9/site-packages (from notebook>=4.4.1->widgetsnbextension~=3.6.0->ipywidgets>=7.0.0->pydeck>=0.1.dev5->streamlit->simpletransformers) (1.8.0)\n",
      "Requirement already satisfied: argon2-cffi in /opt/homebrew/Caskroom/miniforge/base/envs/tensorflow/lib/python3.9/site-packages (from notebook>=4.4.1->widgetsnbextension~=3.6.0->ipywidgets>=7.0.0->pydeck>=0.1.dev5->streamlit->simpletransformers) (21.3.0)\n",
      "Requirement already satisfied: nbformat in /opt/homebrew/Caskroom/miniforge/base/envs/tensorflow/lib/python3.9/site-packages (from notebook>=4.4.1->widgetsnbextension~=3.6.0->ipywidgets>=7.0.0->pydeck>=0.1.dev5->streamlit->simpletransformers) (5.4.0)\n",
      "Requirement already satisfied: ptyprocess>=0.5 in /opt/homebrew/Caskroom/miniforge/base/envs/tensorflow/lib/python3.9/site-packages (from pexpect>4.3->ipython>=7.23.1->ipykernel>=5.1.2->pydeck>=0.1.dev5->streamlit->simpletransformers) (0.7.0)\n",
      "Requirement already satisfied: wcwidth in /opt/homebrew/Caskroom/miniforge/base/envs/tensorflow/lib/python3.9/site-packages (from prompt-toolkit!=3.0.0,!=3.0.1,<3.1.0,>=2.0.0->ipython>=7.23.1->ipykernel>=5.1.2->pydeck>=0.1.dev5->streamlit->simpletransformers) (0.2.5)\n",
      "Requirement already satisfied: pure-eval in /opt/homebrew/Caskroom/miniforge/base/envs/tensorflow/lib/python3.9/site-packages (from stack-data->ipython>=7.23.1->ipykernel>=5.1.2->pydeck>=0.1.dev5->streamlit->simpletransformers) (0.2.2)\n",
      "Requirement already satisfied: asttokens in /opt/homebrew/Caskroom/miniforge/base/envs/tensorflow/lib/python3.9/site-packages (from stack-data->ipython>=7.23.1->ipykernel>=5.1.2->pydeck>=0.1.dev5->streamlit->simpletransformers) (2.0.5)\n",
      "Requirement already satisfied: executing in /opt/homebrew/Caskroom/miniforge/base/envs/tensorflow/lib/python3.9/site-packages (from stack-data->ipython>=7.23.1->ipykernel>=5.1.2->pydeck>=0.1.dev5->streamlit->simpletransformers) (0.8.3)\n",
      "Requirement already satisfied: pandocfilters>=1.4.1 in /opt/homebrew/Caskroom/miniforge/base/envs/tensorflow/lib/python3.9/site-packages (from nbconvert>=5->notebook>=4.4.1->widgetsnbextension~=3.6.0->ipywidgets>=7.0.0->pydeck>=0.1.dev5->streamlit->simpletransformers) (1.5.0)\n",
      "Requirement already satisfied: jupyterlab-pygments in /opt/homebrew/Caskroom/miniforge/base/envs/tensorflow/lib/python3.9/site-packages (from nbconvert>=5->notebook>=4.4.1->widgetsnbextension~=3.6.0->ipywidgets>=7.0.0->pydeck>=0.1.dev5->streamlit->simpletransformers) (0.2.2)\n",
      "Requirement already satisfied: beautifulsoup4 in /opt/homebrew/Caskroom/miniforge/base/envs/tensorflow/lib/python3.9/site-packages (from nbconvert>=5->notebook>=4.4.1->widgetsnbextension~=3.6.0->ipywidgets>=7.0.0->pydeck>=0.1.dev5->streamlit->simpletransformers) (4.11.1)\n",
      "Requirement already satisfied: mistune<2,>=0.8.1 in /opt/homebrew/Caskroom/miniforge/base/envs/tensorflow/lib/python3.9/site-packages (from nbconvert>=5->notebook>=4.4.1->widgetsnbextension~=3.6.0->ipywidgets>=7.0.0->pydeck>=0.1.dev5->streamlit->simpletransformers) (0.8.4)\n",
      "Requirement already satisfied: bleach in /opt/homebrew/Caskroom/miniforge/base/envs/tensorflow/lib/python3.9/site-packages (from nbconvert>=5->notebook>=4.4.1->widgetsnbextension~=3.6.0->ipywidgets>=7.0.0->pydeck>=0.1.dev5->streamlit->simpletransformers) (5.0.1)\n",
      "Requirement already satisfied: testpath in /opt/homebrew/Caskroom/miniforge/base/envs/tensorflow/lib/python3.9/site-packages (from nbconvert>=5->notebook>=4.4.1->widgetsnbextension~=3.6.0->ipywidgets>=7.0.0->pydeck>=0.1.dev5->streamlit->simpletransformers) (0.6.0)\n",
      "Requirement already satisfied: nbclient<0.6.0,>=0.5.0 in /opt/homebrew/Caskroom/miniforge/base/envs/tensorflow/lib/python3.9/site-packages (from nbconvert>=5->notebook>=4.4.1->widgetsnbextension~=3.6.0->ipywidgets>=7.0.0->pydeck>=0.1.dev5->streamlit->simpletransformers) (0.5.13)\n",
      "Requirement already satisfied: defusedxml in /opt/homebrew/Caskroom/miniforge/base/envs/tensorflow/lib/python3.9/site-packages (from nbconvert>=5->notebook>=4.4.1->widgetsnbextension~=3.6.0->ipywidgets>=7.0.0->pydeck>=0.1.dev5->streamlit->simpletransformers) (0.7.1)\n",
      "Requirement already satisfied: fastjsonschema in /opt/homebrew/Caskroom/miniforge/base/envs/tensorflow/lib/python3.9/site-packages (from nbformat->notebook>=4.4.1->widgetsnbextension~=3.6.0->ipywidgets>=7.0.0->pydeck>=0.1.dev5->streamlit->simpletransformers) (2.15.3)\n",
      "Requirement already satisfied: argon2-cffi-bindings in /opt/homebrew/Caskroom/miniforge/base/envs/tensorflow/lib/python3.9/site-packages (from argon2-cffi->notebook>=4.4.1->widgetsnbextension~=3.6.0->ipywidgets>=7.0.0->pydeck>=0.1.dev5->streamlit->simpletransformers) (21.2.0)\n",
      "Requirement already satisfied: cffi>=1.0.1 in /opt/homebrew/Caskroom/miniforge/base/envs/tensorflow/lib/python3.9/site-packages (from argon2-cffi-bindings->argon2-cffi->notebook>=4.4.1->widgetsnbextension~=3.6.0->ipywidgets>=7.0.0->pydeck>=0.1.dev5->streamlit->simpletransformers) (1.15.1)\n",
      "Requirement already satisfied: soupsieve>1.2 in /opt/homebrew/Caskroom/miniforge/base/envs/tensorflow/lib/python3.9/site-packages (from beautifulsoup4->nbconvert>=5->notebook>=4.4.1->widgetsnbextension~=3.6.0->ipywidgets>=7.0.0->pydeck>=0.1.dev5->streamlit->simpletransformers) (2.3.1)\n",
      "Requirement already satisfied: webencodings in /opt/homebrew/Caskroom/miniforge/base/envs/tensorflow/lib/python3.9/site-packages (from bleach->nbconvert>=5->notebook>=4.4.1->widgetsnbextension~=3.6.0->ipywidgets>=7.0.0->pydeck>=0.1.dev5->streamlit->simpletransformers) (0.5.1)\n",
      "Requirement already satisfied: pycparser in /opt/homebrew/Caskroom/miniforge/base/envs/tensorflow/lib/python3.9/site-packages (from cffi>=1.0.1->argon2-cffi-bindings->argon2-cffi->notebook>=4.4.1->widgetsnbextension~=3.6.0->ipywidgets>=7.0.0->pydeck>=0.1.dev5->streamlit->simpletransformers) (2.21)\n",
      "Requirement already satisfied: transformers in /opt/homebrew/Caskroom/miniforge/base/envs/tensorflow/lib/python3.9/site-packages (4.21.0.dev0)\n",
      "Requirement already satisfied: regex!=2019.12.17 in /opt/homebrew/Caskroom/miniforge/base/envs/tensorflow/lib/python3.9/site-packages (from transformers) (2022.6.2)\n",
      "Requirement already satisfied: pyyaml>=5.1 in /opt/homebrew/Caskroom/miniforge/base/envs/tensorflow/lib/python3.9/site-packages (from transformers) (6.0)\n",
      "Requirement already satisfied: tqdm>=4.27 in /opt/homebrew/Caskroom/miniforge/base/envs/tensorflow/lib/python3.9/site-packages (from transformers) (4.64.0)\n",
      "Requirement already satisfied: filelock in /opt/homebrew/Caskroom/miniforge/base/envs/tensorflow/lib/python3.9/site-packages (from transformers) (3.7.1)\n",
      "Requirement already satisfied: numpy>=1.17 in /opt/homebrew/Caskroom/miniforge/base/envs/tensorflow/lib/python3.9/site-packages (from transformers) (1.23.1)\n",
      "Requirement already satisfied: huggingface-hub<1.0,>=0.1.0 in /opt/homebrew/Caskroom/miniforge/base/envs/tensorflow/lib/python3.9/site-packages (from transformers) (0.8.1)\n",
      "Requirement already satisfied: packaging>=20.0 in /opt/homebrew/Caskroom/miniforge/base/envs/tensorflow/lib/python3.9/site-packages (from transformers) (21.3)\n",
      "Requirement already satisfied: requests in /opt/homebrew/Caskroom/miniforge/base/envs/tensorflow/lib/python3.9/site-packages (from transformers) (2.28.1)\n",
      "Requirement already satisfied: tokenizers!=0.11.3,<0.13,>=0.11.1 in /opt/homebrew/Caskroom/miniforge/base/envs/tensorflow/lib/python3.9/site-packages/tokenizers-0.12.1.dev0-py3.9-macosx-11.0-arm64.egg (from transformers) (0.12.1.dev0)\n",
      "Requirement already satisfied: typing-extensions>=3.7.4.3 in /opt/homebrew/Caskroom/miniforge/base/envs/tensorflow/lib/python3.9/site-packages (from huggingface-hub<1.0,>=0.1.0->transformers) (4.3.0)\n",
      "Requirement already satisfied: pyparsing!=3.0.5,>=2.0.2 in /opt/homebrew/Caskroom/miniforge/base/envs/tensorflow/lib/python3.9/site-packages (from packaging>=20.0->transformers) (3.0.9)\n",
      "Requirement already satisfied: urllib3<1.27,>=1.21.1 in /opt/homebrew/Caskroom/miniforge/base/envs/tensorflow/lib/python3.9/site-packages (from requests->transformers) (1.26.9)\n",
      "Requirement already satisfied: idna<4,>=2.5 in /opt/homebrew/Caskroom/miniforge/base/envs/tensorflow/lib/python3.9/site-packages (from requests->transformers) (2.10)\n",
      "Requirement already satisfied: certifi>=2017.4.17 in /opt/homebrew/Caskroom/miniforge/base/envs/tensorflow/lib/python3.9/site-packages (from requests->transformers) (2022.6.15)\n",
      "Requirement already satisfied: charset-normalizer<3,>=2 in /opt/homebrew/Caskroom/miniforge/base/envs/tensorflow/lib/python3.9/site-packages (from requests->transformers) (2.1.0)\n"
     ]
    },
    {
     "name": "stderr",
     "output_type": "stream",
     "text": [
      "[nltk_data] Downloading package vader_lexicon to\n",
      "[nltk_data]     /Users/sanleypeter/nltk_data...\n",
      "[nltk_data]   Package vader_lexicon is already up-to-date!\n"
     ]
    },
    {
     "name": "stdout",
     "output_type": "stream",
     "text": [
      "Init Plugin\n",
      "Init Graph Optimizer\n",
      "Init Kernel\n"
     ]
    }
   ],
   "source": [
    "from nltk.tokenize import word_tokenize, RegexpTokenizer\n",
    "import re\n",
    "import pandas as pd\n",
    "import numpy as np\n",
    "from sklearn.feature_extraction.text import TfidfVectorizer\n",
    "import matplotlib.pyplot as plt\n",
    "from sklearn.metrics import confusion_matrix\n",
    "from sklearn.model_selection import train_test_split\n",
    "import nltk\n",
    "nltk.download(\"vader_lexicon\")\n",
    "from nltk.sentiment.vader import SentimentIntensityAnalyzer\n",
    "import torch\n",
    "from transformers import BertForSequenceClassification, Trainer, TrainingArguments, AutoTokenizer\n",
    "from sklearn.metrics import accuracy_score, precision_recall_fscore_support\n",
    "from simpletransformers.classification import ClassificationModel"
   ]
  },
  {
   "cell_type": "markdown",
   "id": "e9a6e0f6",
   "metadata": {},
   "source": [
    "# Reading the dataframe"
   ]
  },
  {
   "cell_type": "code",
   "execution_count": 2,
   "id": "93fb254c",
   "metadata": {},
   "outputs": [],
   "source": [
    "df = pd.read_csv(\"../../Thesis-Code/lyrics_1051_cleaned.csv\", index_col = [0])\n",
    "temp2 = df"
   ]
  },
  {
   "cell_type": "markdown",
   "id": "148906a5",
   "metadata": {},
   "source": [
    "## Convert the sentiment label in the dataframe from {1, -1} to {1, 0}"
   ]
  },
  {
   "cell_type": "code",
   "execution_count": 3,
   "id": "5ba227a6",
   "metadata": {},
   "outputs": [],
   "source": [
    "def convert_label(inp):\n",
    "    return 0 if inp == -1.0 else 1\n",
    "  \n",
    "temp2[\"sentiment\"] = temp2[\"polarity\"].apply(lambda x: convert_label(x))"
   ]
  },
  {
   "cell_type": "code",
   "execution_count": 4,
   "id": "e6e1334f",
   "metadata": {},
   "outputs": [
    {
     "data": {
      "text/plain": [
       "1    587\n",
       "0    463\n",
       "Name: sentiment, dtype: int64"
      ]
     },
     "execution_count": 4,
     "metadata": {},
     "output_type": "execute_result"
    }
   ],
   "source": [
    "temp2['sentiment'].value_counts()"
   ]
  },
  {
   "cell_type": "code",
   "execution_count": 5,
   "id": "1578dfc2",
   "metadata": {},
   "outputs": [],
   "source": [
    "test_df = temp2[['eng_cleaned', 'sentiment']]"
   ]
  },
  {
   "cell_type": "markdown",
   "id": "a9545552",
   "metadata": {},
   "source": [
    "## Split the dataset into training, validation and test set"
   ]
  },
  {
   "cell_type": "code",
   "execution_count": 6,
   "id": "120c62f4",
   "metadata": {},
   "outputs": [],
   "source": [
    "train, test = train_test_split(test_df, test_size=0.2, shuffle = True, random_state = 8)\n",
    "train, val = train_test_split(train, test_size=0.25, random_state= 8)"
   ]
  },
  {
   "cell_type": "code",
   "execution_count": 7,
   "id": "e2d5ea23",
   "metadata": {},
   "outputs": [
    {
     "data": {
      "text/plain": [
       "(630, 2)"
      ]
     },
     "execution_count": 7,
     "metadata": {},
     "output_type": "execute_result"
    }
   ],
   "source": [
    "train.shape"
   ]
  },
  {
   "cell_type": "code",
   "execution_count": 8,
   "id": "abe2502c",
   "metadata": {},
   "outputs": [
    {
     "data": {
      "text/plain": [
       "(210, 2)"
      ]
     },
     "execution_count": 8,
     "metadata": {},
     "output_type": "execute_result"
    }
   ],
   "source": [
    "val.shape"
   ]
  },
  {
   "cell_type": "code",
   "execution_count": 9,
   "id": "d31ccfcc",
   "metadata": {},
   "outputs": [
    {
     "data": {
      "text/plain": [
       "(210, 2)"
      ]
     },
     "execution_count": 9,
     "metadata": {},
     "output_type": "execute_result"
    }
   ],
   "source": [
    "test.shape"
   ]
  },
  {
   "cell_type": "markdown",
   "id": "23602f6a",
   "metadata": {},
   "source": [
    "# VADER analysis"
   ]
  },
  {
   "cell_type": "code",
   "execution_count": 10,
   "id": "79200865",
   "metadata": {},
   "outputs": [],
   "source": [
    "analyzer = SentimentIntensityAnalyzer()\n",
    "\n",
    "def vader_sentiment_result(sent):\n",
    "    scores = analyzer.polarity_scores(sent)\n",
    "    \n",
    "    if scores[\"neg\"] > scores[\"pos\"]:\n",
    "        return 0\n",
    "\n",
    "    return 1\n",
    "\n",
    "train[\"vader_result\"] = train[\"eng_cleaned\"].apply(lambda x: vader_sentiment_result(x))\n",
    "val[\"vader_result\"] = val[\"eng_cleaned\"].apply(lambda x: vader_sentiment_result(x))"
   ]
  },
  {
   "cell_type": "markdown",
   "id": "34df4ce6",
   "metadata": {},
   "source": [
    "# BERT"
   ]
  },
  {
   "cell_type": "markdown",
   "id": "37826787",
   "metadata": {},
   "source": [
    "## Training"
   ]
  },
  {
   "cell_type": "markdown",
   "id": "3967d00b",
   "metadata": {},
   "source": [
    "Please note that training the BERT model will take a long time. Training of even 5 epochs took around 2-3 hours."
   ]
  },
  {
   "cell_type": "code",
   "execution_count": 11,
   "id": "47986a25",
   "metadata": {},
   "outputs": [
    {
     "name": "stderr",
     "output_type": "stream",
     "text": [
      "Some weights of the model checkpoint at bert-large-uncased were not used when initializing BertForSequenceClassification: ['cls.predictions.bias', 'cls.predictions.transform.dense.weight', 'cls.seq_relationship.bias', 'cls.predictions.transform.dense.bias', 'cls.predictions.decoder.weight', 'cls.predictions.transform.LayerNorm.bias', 'cls.predictions.transform.LayerNorm.weight', 'cls.seq_relationship.weight']\n",
      "- This IS expected if you are initializing BertForSequenceClassification from the checkpoint of a model trained on another task or with another architecture (e.g. initializing a BertForSequenceClassification model from a BertForPreTraining model).\n",
      "- This IS NOT expected if you are initializing BertForSequenceClassification from the checkpoint of a model that you expect to be exactly identical (initializing a BertForSequenceClassification model from a BertForSequenceClassification model).\n",
      "Some weights of BertForSequenceClassification were not initialized from the model checkpoint at bert-large-uncased and are newly initialized: ['classifier.bias', 'classifier.weight']\n",
      "You should probably TRAIN this model on a down-stream task to be able to use it for predictions and inference.\n",
      "/opt/homebrew/Caskroom/miniforge/base/envs/tensorflow/lib/python3.9/site-packages/transformers/optimization.py:306: FutureWarning: This implementation of AdamW is deprecated and will be removed in a future version. Use the PyTorch implementation torch.optim.AdamW instead, or set `no_deprecation_warning=True` to disable this warning\n",
      "  warnings.warn(\n",
      "***** Running training *****\n",
      "  Num examples = 630\n",
      "  Num Epochs = 5\n",
      "  Instantaneous batch size per device = 16\n",
      "  Total train batch size (w. parallel, distributed & accumulation) = 16\n",
      "  Gradient Accumulation steps = 1\n",
      "  Total optimization steps = 200\n"
     ]
    },
    {
     "data": {
      "text/html": [
       "\n",
       "    <div>\n",
       "      \n",
       "      <progress value='200' max='200' style='width:300px; height:20px; vertical-align: middle;'></progress>\n",
       "      [200/200 2:16:59, Epoch 5/5]\n",
       "    </div>\n",
       "    <table border=\"1\" class=\"dataframe\">\n",
       "  <thead>\n",
       " <tr style=\"text-align: left;\">\n",
       "      <th>Step</th>\n",
       "      <th>Training Loss</th>\n",
       "      <th>Validation Loss</th>\n",
       "      <th>Accuracy</th>\n",
       "      <th>F1</th>\n",
       "      <th>Precision</th>\n",
       "      <th>Recall</th>\n",
       "    </tr>\n",
       "  </thead>\n",
       "  <tbody>\n",
       "    <tr>\n",
       "      <td>50</td>\n",
       "      <td>0.658800</td>\n",
       "      <td>0.590519</td>\n",
       "      <td>0.723810</td>\n",
       "      <td>0.839779</td>\n",
       "      <td>0.723810</td>\n",
       "      <td>1.000000</td>\n",
       "    </tr>\n",
       "    <tr>\n",
       "      <td>100</td>\n",
       "      <td>0.641600</td>\n",
       "      <td>0.586808</td>\n",
       "      <td>0.723810</td>\n",
       "      <td>0.839779</td>\n",
       "      <td>0.723810</td>\n",
       "      <td>1.000000</td>\n",
       "    </tr>\n",
       "    <tr>\n",
       "      <td>150</td>\n",
       "      <td>0.656300</td>\n",
       "      <td>0.588454</td>\n",
       "      <td>0.723810</td>\n",
       "      <td>0.839779</td>\n",
       "      <td>0.723810</td>\n",
       "      <td>1.000000</td>\n",
       "    </tr>\n",
       "    <tr>\n",
       "      <td>200</td>\n",
       "      <td>0.639800</td>\n",
       "      <td>0.585371</td>\n",
       "      <td>0.723810</td>\n",
       "      <td>0.839779</td>\n",
       "      <td>0.723810</td>\n",
       "      <td>1.000000</td>\n",
       "    </tr>\n",
       "  </tbody>\n",
       "</table><p>"
      ],
      "text/plain": [
       "<IPython.core.display.HTML object>"
      ]
     },
     "metadata": {},
     "output_type": "display_data"
    },
    {
     "name": "stderr",
     "output_type": "stream",
     "text": [
      "***** Running Evaluation *****\n",
      "  Num examples = 210\n",
      "  Batch size = 64\n",
      "***** Running Evaluation *****\n",
      "  Num examples = 210\n",
      "  Batch size = 64\n",
      "***** Running Evaluation *****\n",
      "  Num examples = 210\n",
      "  Batch size = 64\n",
      "***** Running Evaluation *****\n",
      "  Num examples = 210\n",
      "  Batch size = 64\n",
      "\n",
      "\n",
      "Training completed. Do not forget to share your model on huggingface.co/models =)\n",
      "\n",
      "\n",
      "Saving model checkpoint to ../../Models/sa-bert\n",
      "Configuration saved in ../../Models/sa-bert/config.json\n",
      "Model weights saved in ../../Models/sa-bert/pytorch_model.bin\n"
     ]
    }
   ],
   "source": [
    "# Load the BERT Tokenizer\n",
    "tokenizer = AutoTokenizer.from_pretrained('bert-base-uncased')\n",
    "\n",
    "# The dataset class\n",
    "class TheDataset(torch.utils.data.Dataset):\n",
    "\n",
    "    def __init__(self, reviews, sentiments, tokenizer):\n",
    "        self.reviews    = reviews\n",
    "        self.sentiments = sentiments\n",
    "        self.tokenizer  = tokenizer\n",
    "        self.max_len    = tokenizer.model_max_length\n",
    "  \n",
    "    def __len__(self):\n",
    "        return len(self.reviews)\n",
    "  \n",
    "    def __getitem__(self, index):\n",
    "        review = str(self.reviews[index])\n",
    "        sentiments = self.sentiments[index]\n",
    "\n",
    "        encoded_review = self.tokenizer.encode_plus(\n",
    "            review,\n",
    "            add_special_tokens    = True,\n",
    "            max_length            = self.max_len,\n",
    "            return_token_type_ids = False,\n",
    "            return_attention_mask = True,\n",
    "            return_tensors        = 'pt',\n",
    "            padding               = \"max_length\",\n",
    "            truncation            = True\n",
    "        )\n",
    "\n",
    "        return {\n",
    "            'input_ids': encoded_review['input_ids'][0],\n",
    "            'attention_mask': encoded_review['attention_mask'][0],\n",
    "            'labels': torch.tensor(sentiments, dtype=torch.long)\n",
    "        }\n",
    "\n",
    "# Prepare the Train/Validation sets\n",
    "train_dataset = TheDataset(\n",
    "    reviews    = train.eng_cleaned.tolist(),\n",
    "    sentiments = train.vader_result.tolist(),\n",
    "    tokenizer  = tokenizer,\n",
    ")\n",
    "\n",
    "val_dataset = TheDataset(\n",
    "    reviews    = val.eng_cleaned.tolist(),\n",
    "    sentiments = val.vader_result.tolist(),\n",
    "    tokenizer  = tokenizer,\n",
    ")\n",
    "\n",
    "# Load the BERT model\n",
    "model = BertForSequenceClassification.from_pretrained(\"bert-large-uncased\")\n",
    "\n",
    "# Freeze BERT except (the 24th layer + the last pooler layer)\n",
    "for name, param in model.bert.named_parameters():\n",
    "    if ( not name.startswith('pooler') ) and \"layer.23\" not in name :\n",
    "        param.requires_grad = False\n",
    "\n",
    "# The function to get the accuracy\n",
    "def compute_metrics(pred):\n",
    "    labels = pred.label_ids\n",
    "    preds = pred.predictions.argmax(-1)\n",
    "    precision, recall, f1, _ = precision_recall_fscore_support(labels, preds, average='binary')\n",
    "    acc = accuracy_score(labels, preds)\n",
    "    return {\n",
    "        'accuracy': acc,\n",
    "        'f1': f1,\n",
    "        'precision': precision,\n",
    "        'recall': recall\n",
    "    }\n",
    "\n",
    "# Define the training parameters\n",
    "training_args = TrainingArguments(\n",
    "    output_dir                  = \"../../Models/sa-bert\",\n",
    "    num_train_epochs            = 5,\n",
    "    per_device_train_batch_size = 16,\n",
    "    per_device_eval_batch_size  = 64,\n",
    "    logging_strategy            = \"steps\",\n",
    "    logging_steps               = 50,\n",
    "    warmup_steps                = 500,\n",
    "    weight_decay                = 0.01,\n",
    "    save_strategy               = \"steps\",\n",
    "    evaluation_strategy         = \"steps\",\n",
    "    save_total_limit            = 2,\n",
    "    load_best_model_at_end      = True,\n",
    "    metric_for_best_model       = \"accuracy\",\n",
    "    report_to                   = \"tensorboard\"\n",
    ")\n",
    "\n",
    "# Define the Huggingface Trainer object\n",
    "trainer = Trainer(\n",
    "    model           = model,\n",
    "    args            = training_args,\n",
    "    train_dataset   = train_dataset,\n",
    "    eval_dataset    = val_dataset,\n",
    "    compute_metrics = compute_metrics\n",
    ")\n",
    "\n",
    "# Start pre-training!\n",
    "trainer.train()\n",
    "trainer.save_model(\"../../Models/sa-bert\")"
   ]
  },
  {
   "cell_type": "markdown",
   "id": "3a347ec6",
   "metadata": {},
   "source": [
    "## Prediction using model loaded from checkpoint"
   ]
  },
  {
   "cell_type": "code",
   "execution_count": 12,
   "id": "b041f52d",
   "metadata": {},
   "outputs": [
    {
     "name": "stderr",
     "output_type": "stream",
     "text": [
      "loading configuration file ../../Models/sa-bert/checkpoint-500/config.json\n",
      "Model config BertConfig {\n",
      "  \"_name_or_path\": \"bert-large-uncased\",\n",
      "  \"architectures\": [\n",
      "    \"BertForSequenceClassification\"\n",
      "  ],\n",
      "  \"attention_probs_dropout_prob\": 0.1,\n",
      "  \"classifier_dropout\": null,\n",
      "  \"gradient_checkpointing\": false,\n",
      "  \"hidden_act\": \"gelu\",\n",
      "  \"hidden_dropout_prob\": 0.1,\n",
      "  \"hidden_size\": 1024,\n",
      "  \"initializer_range\": 0.02,\n",
      "  \"intermediate_size\": 4096,\n",
      "  \"layer_norm_eps\": 1e-12,\n",
      "  \"max_position_embeddings\": 512,\n",
      "  \"model_type\": \"bert\",\n",
      "  \"num_attention_heads\": 16,\n",
      "  \"num_hidden_layers\": 24,\n",
      "  \"pad_token_id\": 0,\n",
      "  \"position_embedding_type\": \"absolute\",\n",
      "  \"problem_type\": \"single_label_classification\",\n",
      "  \"torch_dtype\": \"float32\",\n",
      "  \"transformers_version\": \"4.21.0.dev0\",\n",
      "  \"type_vocab_size\": 2,\n",
      "  \"use_cache\": true,\n",
      "  \"vocab_size\": 30522\n",
      "}\n",
      "\n",
      "loading weights file ../../Models/sa-bert/checkpoint-500/pytorch_model.bin\n",
      "All model checkpoint weights were used when initializing BertForSequenceClassification.\n",
      "\n",
      "All the weights of BertForSequenceClassification were initialized from the model checkpoint at ../../Models/sa-bert/checkpoint-500.\n",
      "If your task is similar to the task the model of the checkpoint was trained on, you can already use BertForSequenceClassification for predictions without further training.\n",
      "PyTorch: setting up devices\n",
      "The default value for the training argument `--report_to` will change in v5 (from all installed integrations to none). In v5, you will need to use `--report_to all` to get the same behavior as now. You should start updating your code and make this info disappear :-).\n",
      "***** Running Prediction *****\n",
      "  Num examples = 210\n",
      "  Batch size = 8\n"
     ]
    },
    {
     "data": {
      "text/html": [
       "\n",
       "    <div>\n",
       "      \n",
       "      <progress value='27' max='27' style='width:300px; height:20px; vertical-align: middle;'></progress>\n",
       "      [27/27 04:34]\n",
       "    </div>\n",
       "    "
      ],
      "text/plain": [
       "<IPython.core.display.HTML object>"
      ]
     },
     "metadata": {},
     "output_type": "display_data"
    },
    {
     "data": {
      "text/plain": [
       "PredictionOutput(predictions=array([[ 1.2506185 , -0.925302  ],\n",
       "       [ 0.87508434,  0.0354313 ],\n",
       "       [-1.3523662 ,  1.8445715 ],\n",
       "       [-0.04889242,  0.6208542 ],\n",
       "       [ 0.08563431, -0.01345127],\n",
       "       [ 0.31334403,  0.12422984],\n",
       "       [-1.0688744 ,  1.4775962 ],\n",
       "       [-1.1636331 ,  1.576093  ],\n",
       "       [ 0.19966732,  0.02564472],\n",
       "       [-1.3416245 ,  1.8548858 ],\n",
       "       [ 1.6542152 , -0.72417396],\n",
       "       [ 1.3242314 , -0.9888401 ],\n",
       "       [-1.2153888 ,  2.1986277 ],\n",
       "       [-0.3131896 ,  0.8989139 ],\n",
       "       [-1.0129565 ,  1.4591366 ],\n",
       "       [-0.11946747,  0.6226268 ],\n",
       "       [ 1.537325  , -0.9386224 ],\n",
       "       [-0.6210219 ,  0.7767081 ],\n",
       "       [-1.1675221 ,  1.6404217 ],\n",
       "       [-0.5500312 ,  1.1580622 ],\n",
       "       [-1.4410373 ,  2.0214405 ],\n",
       "       [-1.9771341 ,  2.6809623 ],\n",
       "       [ 0.6561237 , -0.6479999 ],\n",
       "       [ 0.5837761 , -0.08491136],\n",
       "       [ 0.83939075, -0.38641876],\n",
       "       [-0.33812335,  0.43493193],\n",
       "       [-0.46921942,  1.0689955 ],\n",
       "       [-0.22221366,  1.1835997 ],\n",
       "       [-1.6626431 ,  2.17407   ],\n",
       "       [ 1.0182847 , -0.30355033],\n",
       "       [ 1.3033769 , -0.5681119 ],\n",
       "       [-1.836021  ,  2.5144734 ],\n",
       "       [ 1.8234143 , -1.0743318 ],\n",
       "       [ 0.66506875, -0.24432796],\n",
       "       [-0.9710184 ,  2.0403206 ],\n",
       "       [-0.6217135 ,  1.2555795 ],\n",
       "       [-1.3603575 ,  2.0151482 ],\n",
       "       [ 0.07730798,  0.7057414 ],\n",
       "       [ 1.0448533 , -0.74467313],\n",
       "       [ 0.6176529 , -0.22843945],\n",
       "       [-1.0920272 ,  1.9534265 ],\n",
       "       [-0.9910554 ,  1.6145319 ],\n",
       "       [-1.2534894 ,  1.7774236 ],\n",
       "       [-0.9037551 ,  1.4515616 ],\n",
       "       [ 1.0547519 , -0.6337812 ],\n",
       "       [-1.5240016 ,  2.4921668 ],\n",
       "       [ 0.26862162,  0.55335057],\n",
       "       [-0.9771522 ,  1.2632437 ],\n",
       "       [-0.012512  ,  0.7136338 ],\n",
       "       [ 0.6918687 , -0.17824753],\n",
       "       [ 0.9482684 , -0.54077655],\n",
       "       [ 0.5726381 , -0.38758337],\n",
       "       [-0.3610952 ,  0.45809567],\n",
       "       [ 0.18406418,  0.18900876],\n",
       "       [ 1.4687281 , -0.9215059 ],\n",
       "       [-1.0075076 ,  1.6585428 ],\n",
       "       [ 0.9741303 , -0.44595352],\n",
       "       [-1.6224321 ,  2.3798733 ],\n",
       "       [ 0.23315012, -0.06880987],\n",
       "       [ 1.8575264 , -1.0301737 ],\n",
       "       [-0.2771272 ,  0.56049347],\n",
       "       [-0.1310771 ,  0.26278818],\n",
       "       [ 0.36972263, -0.08798587],\n",
       "       [ 0.6766874 , -0.2197709 ],\n",
       "       [-0.24994248,  0.53644377],\n",
       "       [ 0.933001  , -0.40159357],\n",
       "       [-0.9125962 ,  1.2591001 ],\n",
       "       [-0.42696753,  0.86318964],\n",
       "       [ 1.9792919 , -1.3595307 ],\n",
       "       [ 0.09663888,  0.4170985 ],\n",
       "       [-1.0828551 ,  1.4242985 ],\n",
       "       [-0.80599266,  1.042296  ],\n",
       "       [-1.8237412 ,  2.5402443 ],\n",
       "       [ 0.9394346 , -0.31435415],\n",
       "       [ 1.3217525 , -0.804908  ],\n",
       "       [ 0.08875045,  0.90130615],\n",
       "       [-0.6593319 ,  0.69669944],\n",
       "       [-1.2649933 ,  1.6936153 ],\n",
       "       [-1.1316775 ,  1.6840531 ],\n",
       "       [ 0.50922954,  0.19994593],\n",
       "       [-1.4937611 ,  2.3030849 ],\n",
       "       [ 1.1175295 , -0.42333165],\n",
       "       [ 1.9151831 , -1.2604036 ],\n",
       "       [-0.4373823 ,  1.2184792 ],\n",
       "       [-1.2317427 ,  1.96233   ],\n",
       "       [-1.2542006 ,  1.9392244 ],\n",
       "       [-1.3726168 ,  2.0918274 ],\n",
       "       [-1.902021  ,  2.400728  ],\n",
       "       [-0.38384244,  0.5371366 ],\n",
       "       [-0.32214767,  0.3725644 ],\n",
       "       [ 1.5171715 , -1.1339426 ],\n",
       "       [-0.81534016,  1.271723  ],\n",
       "       [-1.2036657 ,  1.6328431 ],\n",
       "       [ 0.66267854, -0.29700887],\n",
       "       [ 1.7665762 , -1.443665  ],\n",
       "       [-1.2666959 ,  2.253042  ],\n",
       "       [-0.72869897,  1.1714083 ],\n",
       "       [-0.5629838 ,  0.89575   ],\n",
       "       [-0.68922704,  1.0418072 ],\n",
       "       [ 0.31450647,  0.10704147],\n",
       "       [-0.661437  ,  1.0610324 ],\n",
       "       [ 1.1792558 , -0.9195527 ],\n",
       "       [ 0.21919829,  0.23074183],\n",
       "       [-1.2305046 ,  2.1164198 ],\n",
       "       [ 0.0275306 ,  0.2532102 ],\n",
       "       [-0.98465675,  1.5442882 ],\n",
       "       [ 1.6481074 , -0.9050268 ],\n",
       "       [ 0.84835225, -0.43102366],\n",
       "       [-0.06947462,  0.8080823 ],\n",
       "       [ 1.0252782 , -0.29244506],\n",
       "       [-1.2337335 ,  1.7862294 ],\n",
       "       [-1.554001  ,  1.9998149 ],\n",
       "       [-0.2462992 ,  1.2332593 ],\n",
       "       [ 1.1566663 , -0.9677776 ],\n",
       "       [ 0.9325798 , -0.46471718],\n",
       "       [ 0.62942207, -0.19764869],\n",
       "       [ 1.150543  , -0.5280017 ],\n",
       "       [-0.7855904 ,  1.1976919 ],\n",
       "       [ 0.6568301 , -0.10284803],\n",
       "       [-1.629767  ,  2.1568694 ],\n",
       "       [ 1.5281501 , -1.0305384 ],\n",
       "       [-0.37135983,  0.9419156 ],\n",
       "       [-0.2368463 ,  0.7805008 ],\n",
       "       [ 0.663771  , -0.05110468],\n",
       "       [-1.13874   ,  1.6194857 ],\n",
       "       [-1.2266425 ,  1.8284074 ],\n",
       "       [ 1.022376  , -0.45376956],\n",
       "       [-0.8991652 ,  1.8240808 ],\n",
       "       [-0.37448   ,  1.5599308 ],\n",
       "       [-0.06025591,  0.50166625],\n",
       "       [-1.5528138 ,  2.220213  ],\n",
       "       [ 1.8581027 , -1.270913  ],\n",
       "       [ 0.63624597, -0.57804847],\n",
       "       [-1.8115145 ,  2.5101104 ],\n",
       "       [-0.70510393,  1.4462937 ],\n",
       "       [-0.27878517,  1.0777969 ],\n",
       "       [-1.7845765 ,  2.6131465 ],\n",
       "       [ 0.19728762,  0.12836175],\n",
       "       [ 0.21187568,  0.02298481],\n",
       "       [ 1.5970201 , -1.2941514 ],\n",
       "       [-0.29159954,  0.5417412 ],\n",
       "       [-1.9108988 ,  2.9529643 ],\n",
       "       [-0.70592535,  1.400251  ],\n",
       "       [ 0.21071458,  0.27022064],\n",
       "       [-0.67234015,  1.24822   ],\n",
       "       [-0.9766525 ,  1.3766531 ],\n",
       "       [-1.0855954 ,  1.9470279 ],\n",
       "       [ 1.6264361 , -0.943416  ],\n",
       "       [-0.6930499 ,  0.88068223],\n",
       "       [-1.4228246 ,  1.7351407 ],\n",
       "       [-0.7639988 ,  1.4703116 ],\n",
       "       [ 1.3130376 , -0.6208033 ],\n",
       "       [-0.5734264 ,  1.1877071 ],\n",
       "       [-0.65785056,  1.1889191 ],\n",
       "       [ 1.0367775 , -0.2384168 ],\n",
       "       [ 0.49451482, -0.13215514],\n",
       "       [ 0.79261965, -0.6884393 ],\n",
       "       [-1.970154  ,  2.754241  ],\n",
       "       [-0.42892393,  0.92088056],\n",
       "       [-1.1308258 ,  1.8439461 ],\n",
       "       [ 0.01207047,  0.5345588 ],\n",
       "       [-1.2624235 ,  1.734934  ],\n",
       "       [-0.19244783,  0.578335  ],\n",
       "       [-0.80413026,  1.8569977 ],\n",
       "       [-1.6708004 ,  2.2142231 ],\n",
       "       [ 1.2110165 , -0.8380904 ],\n",
       "       [-1.9778743 ,  3.0202157 ],\n",
       "       [ 0.49896753,  0.1450158 ],\n",
       "       [ 0.6663657 ,  0.02826595],\n",
       "       [ 2.031386  , -1.6782244 ],\n",
       "       [-1.1050371 ,  1.7564775 ],\n",
       "       [-0.47150794,  1.4034656 ],\n",
       "       [-0.64923126,  1.017033  ],\n",
       "       [ 0.16881245,  0.06163489],\n",
       "       [ 0.60611296,  0.19121453],\n",
       "       [-1.6033108 ,  2.5306246 ],\n",
       "       [-0.2425827 ,  0.47145203],\n",
       "       [-0.7252831 ,  1.1858318 ],\n",
       "       [ 0.09148497,  0.72530204],\n",
       "       [ 0.15445252,  0.5181293 ],\n",
       "       [ 0.9093396 , -0.5957018 ],\n",
       "       [ 0.84287006, -0.34156471],\n",
       "       [-1.2491858 ,  1.6101197 ],\n",
       "       [-0.70525116,  1.2821554 ],\n",
       "       [ 1.7819059 , -1.0125688 ],\n",
       "       [-0.8669229 ,  1.4481287 ],\n",
       "       [-0.89185596,  1.6723119 ],\n",
       "       [-0.54115033,  1.0867841 ],\n",
       "       [ 0.57179934,  0.16646093],\n",
       "       [ 0.84294754, -0.25603855],\n",
       "       [-0.02129061,  0.46455097],\n",
       "       [-1.1291984 ,  1.5685735 ],\n",
       "       [ 0.27129856,  0.38276902],\n",
       "       [-0.6557888 ,  1.6949521 ],\n",
       "       [-1.0334198 ,  1.5251505 ],\n",
       "       [ 1.6634815 , -0.9360167 ],\n",
       "       [-0.89730227,  1.2855138 ],\n",
       "       [-1.570912  ,  2.2572982 ],\n",
       "       [-1.6084937 ,  2.221874  ],\n",
       "       [-0.12439016,  0.8783668 ],\n",
       "       [-0.9054984 ,  1.4520733 ],\n",
       "       [ 0.34034252, -0.05432441],\n",
       "       [-1.122663  ,  1.2055218 ],\n",
       "       [-0.7332381 ,  1.1160442 ],\n",
       "       [ 0.17530224,  0.36306575],\n",
       "       [-0.53198516,  0.9567355 ],\n",
       "       [-0.5211884 ,  0.9465837 ],\n",
       "       [-1.0946181 ,  1.7704227 ],\n",
       "       [-1.7164583 ,  2.270841  ],\n",
       "       [-1.630516  ,  2.3186574 ]], dtype=float32), label_ids=array([0, 0, 0, 1, 1, 0, 0, 1, 1, 1, 0, 0, 0, 1, 0, 1, 1, 1, 0, 1, 1, 0,\n",
       "       1, 0, 1, 1, 1, 1, 0, 1, 0, 1, 0, 1, 1, 0, 1, 1, 0, 1, 1, 1, 0, 0,\n",
       "       0, 1, 1, 0, 1, 0, 1, 1, 1, 0, 0, 0, 1, 1, 0, 0, 0, 1, 0, 1, 1, 0,\n",
       "       1, 0, 0, 1, 1, 1, 0, 1, 0, 0, 1, 1, 1, 1, 1, 0, 0, 1, 1, 0, 0, 0,\n",
       "       1, 1, 0, 0, 0, 1, 0, 0, 0, 1, 0, 1, 1, 0, 1, 0, 1, 1, 1, 0, 0, 0,\n",
       "       0, 0, 1, 0, 0, 1, 0, 0, 0, 0, 0, 0, 1, 0, 0, 1, 1, 1, 1, 1, 0, 0,\n",
       "       0, 0, 1, 1, 0, 0, 1, 0, 1, 0, 0, 1, 1, 1, 1, 0, 1, 1, 1, 1, 1, 0,\n",
       "       1, 1, 0, 1, 0, 0, 1, 1, 1, 1, 0, 1, 1, 0, 1, 0, 1, 1, 1, 1, 0, 0,\n",
       "       0, 1, 0, 0, 0, 1, 0, 0, 0, 1, 1, 1, 1, 1, 1, 1, 0, 1, 1, 1, 1, 1,\n",
       "       0, 0, 0, 1, 1, 1, 0, 1, 1, 0, 1, 1]), metrics={'test_loss': 1.0146006345748901, 'test_accuracy': 0.5952380952380952, 'test_f1': 0.6613545816733069, 'test_precision': 0.6058394160583942, 'test_recall': 0.7280701754385965, 'test_runtime': 285.0741, 'test_samples_per_second': 0.737, 'test_steps_per_second': 0.095})"
      ]
     },
     "execution_count": 12,
     "metadata": {},
     "output_type": "execute_result"
    }
   ],
   "source": [
    "# Load the checkpoint\n",
    "model = BertForSequenceClassification.from_pretrained(\"../../Models/sa-bert/checkpoint-500\")\n",
    "\n",
    "# Make the test set ready\n",
    "test_set_dataset = TheDataset(\n",
    "    reviews    = test.eng_cleaned.tolist(),\n",
    "    sentiments = test.sentiment.tolist(),\n",
    "    tokenizer  = tokenizer,\n",
    ")\n",
    "\n",
    "training_args = TrainingArguments(\n",
    "    output_dir = \"../../Models/sa-bert\",\n",
    "    do_predict = True\n",
    ")\n",
    "\n",
    "trainer = Trainer(\n",
    "    model           = model,\n",
    "    args            = training_args,\n",
    "    compute_metrics =compute_metrics,\n",
    ")\n",
    "\n",
    "trainer.predict(test_set_dataset)"
   ]
  },
  {
   "cell_type": "markdown",
   "id": "08a4b981",
   "metadata": {},
   "source": [
    "# MBERT"
   ]
  },
  {
   "cell_type": "markdown",
   "id": "ce44c85f",
   "metadata": {},
   "source": [
    "## Splitting the dataset to training and test set for mBERT"
   ]
  },
  {
   "cell_type": "code",
   "execution_count": 13,
   "id": "3b8e3650",
   "metadata": {},
   "outputs": [],
   "source": [
    "test_df2 = temp2[['hin_cleaned','sentiment']]\n",
    "train2, test2 = train_test_split(test_df, test_size=0.2, shuffle = True, random_state = 8)"
   ]
  },
  {
   "cell_type": "markdown",
   "id": "10e8764f",
   "metadata": {},
   "source": [
    "## Training mBERT"
   ]
  },
  {
   "cell_type": "code",
   "execution_count": 14,
   "id": "e658fb11",
   "metadata": {},
   "outputs": [
    {
     "name": "stderr",
     "output_type": "stream",
     "text": [
      "loading configuration file https://huggingface.co/bert-base-multilingual-uncased/resolve/main/config.json from cache at /Users/sanleypeter/.cache/huggingface/transformers/af4e101d208f361f141144dca21e9c4148aaf0e85441c2e335743d10829c6cad.d63adade93e44e64bedd306ec82ffd33eedabaf0ff08aabe581acaa48616a508\n",
      "Model config BertConfig {\n",
      "  \"architectures\": [\n",
      "    \"BertForMaskedLM\"\n",
      "  ],\n",
      "  \"attention_probs_dropout_prob\": 0.1,\n",
      "  \"classifier_dropout\": null,\n",
      "  \"directionality\": \"bidi\",\n",
      "  \"hidden_act\": \"gelu\",\n",
      "  \"hidden_dropout_prob\": 0.1,\n",
      "  \"hidden_size\": 768,\n",
      "  \"initializer_range\": 0.02,\n",
      "  \"intermediate_size\": 3072,\n",
      "  \"layer_norm_eps\": 1e-12,\n",
      "  \"max_position_embeddings\": 512,\n",
      "  \"model_type\": \"bert\",\n",
      "  \"num_attention_heads\": 12,\n",
      "  \"num_hidden_layers\": 12,\n",
      "  \"pad_token_id\": 0,\n",
      "  \"pooler_fc_size\": 768,\n",
      "  \"pooler_num_attention_heads\": 12,\n",
      "  \"pooler_num_fc_layers\": 3,\n",
      "  \"pooler_size_per_head\": 128,\n",
      "  \"pooler_type\": \"first_token_transform\",\n",
      "  \"position_embedding_type\": \"absolute\",\n",
      "  \"transformers_version\": \"4.21.0.dev0\",\n",
      "  \"type_vocab_size\": 2,\n",
      "  \"use_cache\": true,\n",
      "  \"vocab_size\": 105879\n",
      "}\n",
      "\n",
      "loading weights file https://huggingface.co/bert-base-multilingual-uncased/resolve/main/pytorch_model.bin from cache at /Users/sanleypeter/.cache/huggingface/transformers/37f730c9dc4fc13ab6bf412fdc0ad936241a39a70628c2d4a85a607ea775b865.a458b2dad7b293099dd815628e032e6c22519889d75f13d6f244dbe068525a56\n",
      "Some weights of the model checkpoint at bert-base-multilingual-uncased were not used when initializing BertForSequenceClassification: ['cls.predictions.bias', 'cls.predictions.transform.dense.weight', 'cls.seq_relationship.bias', 'cls.predictions.transform.dense.bias', 'cls.predictions.decoder.weight', 'cls.predictions.transform.LayerNorm.bias', 'cls.predictions.transform.LayerNorm.weight', 'cls.seq_relationship.weight']\n",
      "- This IS expected if you are initializing BertForSequenceClassification from the checkpoint of a model trained on another task or with another architecture (e.g. initializing a BertForSequenceClassification model from a BertForPreTraining model).\n",
      "- This IS NOT expected if you are initializing BertForSequenceClassification from the checkpoint of a model that you expect to be exactly identical (initializing a BertForSequenceClassification model from a BertForSequenceClassification model).\n",
      "Some weights of BertForSequenceClassification were not initialized from the model checkpoint at bert-base-multilingual-uncased and are newly initialized: ['classifier.bias', 'classifier.weight']\n",
      "You should probably TRAIN this model on a down-stream task to be able to use it for predictions and inference.\n",
      "loading file https://huggingface.co/bert-base-multilingual-uncased/resolve/main/vocab.txt from cache at /Users/sanleypeter/.cache/huggingface/transformers/269f2943d168a4cd2ddf3864cee89d7f7d78873b3d14a1229174d37212981a38.92022aa29ab6663b0b4254744f28ab43e6adf4deebe0f26651e6c61f28f69d8b\n",
      "loading file https://huggingface.co/bert-base-multilingual-uncased/resolve/main/tokenizer.json from cache at /Users/sanleypeter/.cache/huggingface/transformers/857db185d48b92f3e6141ef5092d8d5dbebab7eef1bacc6c9eaf85cf23807641.73ad1f9fd9f94089672128003fb4a687b64b73b2bfb8d08766bbc71feec8cd96\n",
      "loading file https://huggingface.co/bert-base-multilingual-uncased/resolve/main/added_tokens.json from cache at None\n",
      "loading file https://huggingface.co/bert-base-multilingual-uncased/resolve/main/special_tokens_map.json from cache at None\n",
      "loading file https://huggingface.co/bert-base-multilingual-uncased/resolve/main/tokenizer_config.json from cache at /Users/sanleypeter/.cache/huggingface/transformers/1b935b135ddb021a7d836c00f5702b80d11d348fd5c5a42cbd933d8ed1f55be9.20430bd8e10ef77a7d2977accefe796051e01bc2fc4aa146bc862997a1a15e79\n",
      "loading configuration file https://huggingface.co/bert-base-multilingual-uncased/resolve/main/config.json from cache at /Users/sanleypeter/.cache/huggingface/transformers/af4e101d208f361f141144dca21e9c4148aaf0e85441c2e335743d10829c6cad.d63adade93e44e64bedd306ec82ffd33eedabaf0ff08aabe581acaa48616a508\n",
      "Model config BertConfig {\n",
      "  \"_name_or_path\": \"bert-base-multilingual-uncased\",\n",
      "  \"architectures\": [\n",
      "    \"BertForMaskedLM\"\n",
      "  ],\n",
      "  \"attention_probs_dropout_prob\": 0.1,\n",
      "  \"classifier_dropout\": null,\n",
      "  \"directionality\": \"bidi\",\n",
      "  \"hidden_act\": \"gelu\",\n",
      "  \"hidden_dropout_prob\": 0.1,\n",
      "  \"hidden_size\": 768,\n",
      "  \"initializer_range\": 0.02,\n",
      "  \"intermediate_size\": 3072,\n",
      "  \"layer_norm_eps\": 1e-12,\n",
      "  \"max_position_embeddings\": 512,\n",
      "  \"model_type\": \"bert\",\n",
      "  \"num_attention_heads\": 12,\n",
      "  \"num_hidden_layers\": 12,\n",
      "  \"pad_token_id\": 0,\n",
      "  \"pooler_fc_size\": 768,\n",
      "  \"pooler_num_attention_heads\": 12,\n",
      "  \"pooler_num_fc_layers\": 3,\n",
      "  \"pooler_size_per_head\": 128,\n",
      "  \"pooler_type\": \"first_token_transform\",\n",
      "  \"position_embedding_type\": \"absolute\",\n",
      "  \"transformers_version\": \"4.21.0.dev0\",\n",
      "  \"type_vocab_size\": 2,\n",
      "  \"use_cache\": true,\n",
      "  \"vocab_size\": 105879\n",
      "}\n",
      "\n",
      "/opt/homebrew/Caskroom/miniforge/base/envs/tensorflow/lib/python3.9/site-packages/simpletransformers/classification/classification_model.py:601: UserWarning: Dataframe headers not specified. Falling back to using column 0 as text and column 1 as labels.\n",
      "  warnings.warn(\n"
     ]
    },
    {
     "name": "stdout",
     "output_type": "stream",
     "text": [
      "huggingface/tokenizers: The current process just got forked, after parallelism has already been used. Disabling parallelism to avoid deadlocks...\n",
      "To disable this warning, you can either:\n",
      "\t- Avoid using `tokenizers` before the fork if possible\n",
      "\t- Explicitly set the environment variable TOKENIZERS_PARALLELISM=(true | false)\n",
      "huggingface/tokenizers: The current process just got forked, after parallelism has already been used. Disabling parallelism to avoid deadlocks...\n",
      "To disable this warning, you can either:\n",
      "\t- Avoid using `tokenizers` before the fork if possible\n",
      "\t- Explicitly set the environment variable TOKENIZERS_PARALLELISM=(true | false)\n",
      "huggingface/tokenizers: The current process just got forked, after parallelism has already been used. Disabling parallelism to avoid deadlocks...\n",
      "To disable this warning, you can either:\n",
      "\t- Avoid using `tokenizers` before the fork if possible\n",
      "\t- Explicitly set the environment variable TOKENIZERS_PARALLELISM=(true | false)\n",
      "huggingface/tokenizers: The current process just got forked, after parallelism has already been used. Disabling parallelism to avoid deadlocks...\n",
      "To disable this warning, you can either:\n",
      "\t- Avoid using `tokenizers` before the fork if possible\n",
      "\t- Explicitly set the environment variable TOKENIZERS_PARALLELISM=(true | false)\n"
     ]
    },
    {
     "data": {
      "application/vnd.jupyter.widget-view+json": {
       "model_id": "edd5c7e90deb458fb8e3d26b1e0c7c65",
       "version_major": 2,
       "version_minor": 0
      },
      "text/plain": [
       "  0%|          | 0/840 [00:00<?, ?it/s]"
      ]
     },
     "metadata": {},
     "output_type": "display_data"
    },
    {
     "name": "stdout",
     "output_type": "stream",
     "text": [
      "huggingface/tokenizers: The current process just got forked, after parallelism has already been used. Disabling parallelism to avoid deadlocks...\n",
      "To disable this warning, you can either:\n",
      "\t- Avoid using `tokenizers` before the fork if possible\n",
      "\t- Explicitly set the environment variable TOKENIZERS_PARALLELISM=(true | false)\n",
      "huggingface/tokenizers: The current process just got forked, after parallelism has already been used. Disabling parallelism to avoid deadlocks...\n",
      "To disable this warning, you can either:\n",
      "\t- Avoid using `tokenizers` before the fork if possible\n",
      "\t- Explicitly set the environment variable TOKENIZERS_PARALLELISM=(true | false)\n",
      "huggingface/tokenizers: The current process just got forked, after parallelism has already been used. Disabling parallelism to avoid deadlocks...\n",
      "To disable this warning, you can either:\n",
      "\t- Avoid using `tokenizers` before the fork if possible\n",
      "\t- Explicitly set the environment variable TOKENIZERS_PARALLELISM=(true | false)\n",
      "Init Plugin\n",
      "Init Plugin\n",
      "Init Graph Optimizer\n",
      "Init Graph Optimizer\n",
      "Init Kernel\n",
      "Init Kernel\n"
     ]
    },
    {
     "name": "stderr",
     "output_type": "stream",
     "text": [
      "/opt/homebrew/Caskroom/miniforge/base/envs/tensorflow/lib/python3.9/site-packages/transformers/optimization.py:306: FutureWarning: This implementation of AdamW is deprecated and will be removed in a future version. Use the PyTorch implementation torch.optim.AdamW instead, or set `no_deprecation_warning=True` to disable this warning\n",
      "  warnings.warn(\n"
     ]
    },
    {
     "data": {
      "application/vnd.jupyter.widget-view+json": {
       "model_id": "7ce2d647a0eb422c8e779c44d2fc1f7c",
       "version_major": 2,
       "version_minor": 0
      },
      "text/plain": [
       "Epoch:   0%|          | 0/8 [00:00<?, ?it/s]"
      ]
     },
     "metadata": {},
     "output_type": "display_data"
    },
    {
     "data": {
      "application/vnd.jupyter.widget-view+json": {
       "model_id": "4c28dda4903b4cb1ad2ee0cd5fb5e782",
       "version_major": 2,
       "version_minor": 0
      },
      "text/plain": [
       "Running Epoch 0 of 8:   0%|          | 0/105 [00:00<?, ?it/s]"
      ]
     },
     "metadata": {},
     "output_type": "display_data"
    },
    {
     "name": "stderr",
     "output_type": "stream",
     "text": [
      "Configuration saved in outputs/checkpoint-105-epoch-1/config.json\n",
      "Model weights saved in outputs/checkpoint-105-epoch-1/pytorch_model.bin\n",
      "tokenizer config file saved in outputs/checkpoint-105-epoch-1/tokenizer_config.json\n",
      "Special tokens file saved in outputs/checkpoint-105-epoch-1/special_tokens_map.json\n"
     ]
    },
    {
     "data": {
      "application/vnd.jupyter.widget-view+json": {
       "model_id": "debad9d9b3ff4e249c174396a582d46d",
       "version_major": 2,
       "version_minor": 0
      },
      "text/plain": [
       "Running Epoch 1 of 8:   0%|          | 0/105 [00:00<?, ?it/s]"
      ]
     },
     "metadata": {},
     "output_type": "display_data"
    },
    {
     "name": "stderr",
     "output_type": "stream",
     "text": [
      "Configuration saved in outputs/checkpoint-210-epoch-2/config.json\n",
      "Model weights saved in outputs/checkpoint-210-epoch-2/pytorch_model.bin\n",
      "tokenizer config file saved in outputs/checkpoint-210-epoch-2/tokenizer_config.json\n",
      "Special tokens file saved in outputs/checkpoint-210-epoch-2/special_tokens_map.json\n"
     ]
    },
    {
     "data": {
      "application/vnd.jupyter.widget-view+json": {
       "model_id": "eed2496bda194460a7e41c38e230aaae",
       "version_major": 2,
       "version_minor": 0
      },
      "text/plain": [
       "Running Epoch 2 of 8:   0%|          | 0/105 [00:00<?, ?it/s]"
      ]
     },
     "metadata": {},
     "output_type": "display_data"
    },
    {
     "name": "stderr",
     "output_type": "stream",
     "text": [
      "Configuration saved in outputs/checkpoint-315-epoch-3/config.json\n",
      "Model weights saved in outputs/checkpoint-315-epoch-3/pytorch_model.bin\n",
      "tokenizer config file saved in outputs/checkpoint-315-epoch-3/tokenizer_config.json\n",
      "Special tokens file saved in outputs/checkpoint-315-epoch-3/special_tokens_map.json\n"
     ]
    },
    {
     "data": {
      "application/vnd.jupyter.widget-view+json": {
       "model_id": "40a04f66a6384c5ba09c087ca1fe5daf",
       "version_major": 2,
       "version_minor": 0
      },
      "text/plain": [
       "Running Epoch 3 of 8:   0%|          | 0/105 [00:00<?, ?it/s]"
      ]
     },
     "metadata": {},
     "output_type": "display_data"
    },
    {
     "name": "stderr",
     "output_type": "stream",
     "text": [
      "Configuration saved in outputs/checkpoint-420-epoch-4/config.json\n",
      "Model weights saved in outputs/checkpoint-420-epoch-4/pytorch_model.bin\n",
      "tokenizer config file saved in outputs/checkpoint-420-epoch-4/tokenizer_config.json\n",
      "Special tokens file saved in outputs/checkpoint-420-epoch-4/special_tokens_map.json\n"
     ]
    },
    {
     "data": {
      "application/vnd.jupyter.widget-view+json": {
       "model_id": "518e2e67207640809aa2c9275e988e43",
       "version_major": 2,
       "version_minor": 0
      },
      "text/plain": [
       "Running Epoch 4 of 8:   0%|          | 0/105 [00:00<?, ?it/s]"
      ]
     },
     "metadata": {},
     "output_type": "display_data"
    },
    {
     "name": "stderr",
     "output_type": "stream",
     "text": [
      "Configuration saved in outputs/checkpoint-525-epoch-5/config.json\n",
      "Model weights saved in outputs/checkpoint-525-epoch-5/pytorch_model.bin\n",
      "tokenizer config file saved in outputs/checkpoint-525-epoch-5/tokenizer_config.json\n",
      "Special tokens file saved in outputs/checkpoint-525-epoch-5/special_tokens_map.json\n"
     ]
    },
    {
     "data": {
      "application/vnd.jupyter.widget-view+json": {
       "model_id": "b6f47e6045414ce4bb4e31133cacdeef",
       "version_major": 2,
       "version_minor": 0
      },
      "text/plain": [
       "Running Epoch 5 of 8:   0%|          | 0/105 [00:00<?, ?it/s]"
      ]
     },
     "metadata": {},
     "output_type": "display_data"
    },
    {
     "name": "stderr",
     "output_type": "stream",
     "text": [
      "Configuration saved in outputs/checkpoint-630-epoch-6/config.json\n",
      "Model weights saved in outputs/checkpoint-630-epoch-6/pytorch_model.bin\n",
      "tokenizer config file saved in outputs/checkpoint-630-epoch-6/tokenizer_config.json\n",
      "Special tokens file saved in outputs/checkpoint-630-epoch-6/special_tokens_map.json\n"
     ]
    },
    {
     "data": {
      "application/vnd.jupyter.widget-view+json": {
       "model_id": "ddac68c3e0dc45918837f0eeb06163aa",
       "version_major": 2,
       "version_minor": 0
      },
      "text/plain": [
       "Running Epoch 6 of 8:   0%|          | 0/105 [00:00<?, ?it/s]"
      ]
     },
     "metadata": {},
     "output_type": "display_data"
    },
    {
     "name": "stderr",
     "output_type": "stream",
     "text": [
      "Configuration saved in outputs/checkpoint-735-epoch-7/config.json\n",
      "Model weights saved in outputs/checkpoint-735-epoch-7/pytorch_model.bin\n",
      "tokenizer config file saved in outputs/checkpoint-735-epoch-7/tokenizer_config.json\n",
      "Special tokens file saved in outputs/checkpoint-735-epoch-7/special_tokens_map.json\n"
     ]
    },
    {
     "data": {
      "application/vnd.jupyter.widget-view+json": {
       "model_id": "d0448eff8fc14f939c06504a01635869",
       "version_major": 2,
       "version_minor": 0
      },
      "text/plain": [
       "Running Epoch 7 of 8:   0%|          | 0/105 [00:00<?, ?it/s]"
      ]
     },
     "metadata": {},
     "output_type": "display_data"
    },
    {
     "name": "stderr",
     "output_type": "stream",
     "text": [
      "Configuration saved in outputs/checkpoint-840-epoch-8/config.json\n",
      "Model weights saved in outputs/checkpoint-840-epoch-8/pytorch_model.bin\n",
      "tokenizer config file saved in outputs/checkpoint-840-epoch-8/tokenizer_config.json\n",
      "Special tokens file saved in outputs/checkpoint-840-epoch-8/special_tokens_map.json\n",
      "Configuration saved in outputs/config.json\n",
      "Model weights saved in outputs/pytorch_model.bin\n",
      "tokenizer config file saved in outputs/tokenizer_config.json\n",
      "Special tokens file saved in outputs/special_tokens_map.json\n"
     ]
    },
    {
     "data": {
      "text/plain": [
       "(840, 0.6729542425345807)"
      ]
     },
     "execution_count": 14,
     "metadata": {},
     "output_type": "execute_result"
    }
   ],
   "source": [
    "bert = ClassificationModel('bert', 'bert-base-multilingual-uncased', num_labels=2, use_cuda=False, args={\n",
    "    'reprocess_input_data': True,\n",
    "    'use_cached_eval_features': False,\n",
    "    'overwrite_output_dir': True,\n",
    "    'num_train_epochs': 8,\n",
    "    'silent': False\n",
    "})\n",
    "bert.train_model(train2)"
   ]
  },
  {
   "cell_type": "markdown",
   "id": "72c32961",
   "metadata": {},
   "source": [
    "## Prediction and calculating the accuracy"
   ]
  },
  {
   "cell_type": "code",
   "execution_count": 15,
   "id": "164f527e",
   "metadata": {},
   "outputs": [
    {
     "name": "stderr",
     "output_type": "stream",
     "text": [
      "/opt/homebrew/Caskroom/miniforge/base/envs/tensorflow/lib/python3.9/site-packages/simpletransformers/classification/classification_model.py:1442: UserWarning: Dataframe headers not specified. Falling back to using column 0 as text and column 1 as labels.\n",
      "  warnings.warn(\n"
     ]
    },
    {
     "name": "stdout",
     "output_type": "stream",
     "text": [
      "huggingface/tokenizers: The current process just got forked, after parallelism has already been used. Disabling parallelism to avoid deadlocks...\n",
      "To disable this warning, you can either:\n",
      "\t- Avoid using `tokenizers` before the fork if possible\n",
      "\t- Explicitly set the environment variable TOKENIZERS_PARALLELISM=(true | false)\n",
      "huggingface/tokenizers: The current process just got forked, after parallelism has already been used. Disabling parallelism to avoid deadlocks...\n",
      "To disable this warning, you can either:\n",
      "\t- Avoid using `tokenizers` before the fork if possible\n",
      "\t- Explicitly set the environment variable TOKENIZERS_PARALLELISM=(true | false)\n",
      "huggingface/tokenizers: The current process just got forked, after parallelism has already been used. Disabling parallelism to avoid deadlocks...\n",
      "To disable this warning, you can either:\n",
      "\t- Avoid using `tokenizers` before the fork if possible\n",
      "\t- Explicitly set the environment variable TOKENIZERS_PARALLELISM=(true | false)\n",
      "huggingface/tokenizers: The current process just got forked, after parallelism has already been used. Disabling parallelism to avoid deadlocks...\n",
      "To disable this warning, you can either:\n",
      "\t- Avoid using `tokenizers` before the fork if possible\n"
     ]
    },
    {
     "data": {
      "application/vnd.jupyter.widget-view+json": {
       "model_id": "f8c5db3c2f254c6db363d80e4360fb4b",
       "version_major": 2,
       "version_minor": 0
      },
      "text/plain": [
       "  0%|          | 0/210 [00:00<?, ?it/s]"
      ]
     },
     "metadata": {},
     "output_type": "display_data"
    },
    {
     "name": "stdout",
     "output_type": "stream",
     "text": [
      "\t- Explicitly set the environment variable TOKENIZERS_PARALLELISM=(true | false)\n",
      "huggingface/tokenizers: The current process just got forked, after parallelism has already been used. Disabling parallelism to avoid deadlocks...\n",
      "To disable this warning, you can either:\n",
      "\t- Avoid using `tokenizers` before the fork if possible\n",
      "\t- Explicitly set the environment variable TOKENIZERS_PARALLELISM=(true | false)\n",
      "huggingface/tokenizers: The current process just got forked, after parallelism has already been used. Disabling parallelism to avoid deadlocks...\n",
      "To disable this warning, you can either:\n",
      "\t- Avoid using `tokenizers` before the fork if possible\n",
      "\t- Explicitly set the environment variable TOKENIZERS_PARALLELISM=(true | false)\n",
      "Init Plugin\n",
      "Init Graph Optimizer\n",
      "Init Kernel\n"
     ]
    },
    {
     "data": {
      "application/vnd.jupyter.widget-view+json": {
       "model_id": "7da08e20e92449e4ac95a7a934b7a815",
       "version_major": 2,
       "version_minor": 0
      },
      "text/plain": [
       "Running Evaluation:   0%|          | 0/27 [00:00<?, ?it/s]"
      ]
     },
     "metadata": {},
     "output_type": "display_data"
    },
    {
     "name": "stdout",
     "output_type": "stream",
     "text": [
      "wrong predictions\n",
      "82 wrong out of 210\n"
     ]
    },
    {
     "data": {
      "text/plain": [
       "{0: 67, 1: 15}"
      ]
     },
     "execution_count": 15,
     "metadata": {},
     "output_type": "execute_result"
    }
   ],
   "source": [
    "result, model_outputs, wrong_predictions = bert.eval_model(test2)\n",
    "bads = {}\n",
    "for pred in wrong_predictions:\n",
    "    if pred.label in bads:\n",
    "        bads[pred.label] += 1\n",
    "    else:\n",
    "        bads[pred.label] = 1\n",
    "print(\"wrong predictions\")\n",
    "print(str(len(wrong_predictions)) + ' wrong out of ' + str(len(test2)))\n",
    "bads"
   ]
  },
  {
   "cell_type": "code",
   "execution_count": 17,
   "id": "4e903f28",
   "metadata": {},
   "outputs": [
    {
     "data": {
      "text/plain": [
       "60.952380952380956"
      ]
     },
     "execution_count": 17,
     "metadata": {},
     "output_type": "execute_result"
    }
   ],
   "source": [
    "(1 - (82/210))*100       #accuracy of the model (1 - (wrong_pred / total_pred)) * 100"
   ]
  }
 ],
 "metadata": {
  "kernelspec": {
   "display_name": "Python 3.9 (tensorflow)",
   "language": "python",
   "name": "tensorflow"
  },
  "language_info": {
   "codemirror_mode": {
    "name": "ipython",
    "version": 3
   },
   "file_extension": ".py",
   "mimetype": "text/x-python",
   "name": "python",
   "nbconvert_exporter": "python",
   "pygments_lexer": "ipython3",
   "version": "3.9.13"
  }
 },
 "nbformat": 4,
 "nbformat_minor": 5
}
